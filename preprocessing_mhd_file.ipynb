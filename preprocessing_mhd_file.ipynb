{
 "cells": [
  {
   "cell_type": "code",
   "execution_count": 1,
   "metadata": {
    "collapsed": true
   },
   "outputs": [],
   "source": [
    "import os\n",
    "import sys\n",
    "import tensorflow as tf\n",
    "import nibabel as nib\n",
    "import SimpleITK as sitk\n",
    "import numpy as np\n",
    "from medpy.io import load, save"
   ]
  },
  {
   "cell_type": "code",
   "execution_count": 2,
   "metadata": {
    "collapsed": true
   },
   "outputs": [],
   "source": [
    "def proprecessing(image_path, save_folder, num):\n",
    "\n",
    "    if not os.path.exists(\"../data/prostate/\"+save_folder):\n",
    "        os.mkdir(\"../data/prostate/\"+save_folder)\n",
    "  \n",
    "    for i in range(num):\n",
    "        subject_name = 'Case%02d' % i\n",
    "        mhd = os.path.join(image_path, subject_name+'.mhd')\n",
    "        img = sitk.ReadImage(mhd)\n",
    "        img = sitk.GetArrayFromImage(img)\n",
    "\n",
    "\n",
    "\n",
    "        img[img < -200] = -200\n",
    "        img[img > 250] = 250\n",
    "        img = np.array(img, dtype='float32')\n",
    "        print (\"Saving image \"+ subject_name+'.mhd')\n",
    "        save(img, \"../data/prostate/\" + save_folder + subject_name+'.mhd')\n",
    "        \n"
   ]
  },
  {
   "cell_type": "code",
   "execution_count": 3,
   "metadata": {
    "collapsed": true
   },
   "outputs": [],
   "source": [
    "def generate_tumortxt(image_path, save_folder):\n",
    "    if not os.path.exists(\"../data/prostate/\"+save_folder):\n",
    "        os.mkdir(\"../data/prostate/\"+save_folder)\n",
    "\n",
    "    # Generate Tumortxt\n",
    "    if not os.path.exists(\"../data/prostate/\"+save_folder+'ProstatePixels'):\n",
    "        os.mkdir(\"../data/prostate/\"+save_folder+'ProstatePixels')\n",
    "\n",
    "    for i in range(0,50):\n",
    "        subject_name = 'Case%02d' % i\n",
    "        label = os.path.join(image_path, subject_name+'_segmentation.mhd')\n",
    "        img_label = sitk.ReadImage(label)\n",
    "        inputs_label = sitk.GetArrayFromImage(img_label)\n",
    "        \n",
    "        #livertumor, header = load(image_path+'segmentation-'+str(i)+'.nii')\n",
    "        f = open('../data/prostate/' +save_folder+'/ProstatePixels/prostate_' + str(i) + '.txt', 'w')\n",
    "        index = np.where(inputs_label==1)\n",
    "        x = index[0]\n",
    "        y = index[1]\n",
    "        z = index[2]\n",
    "        np.savetxt(f, np.c_[x,y,z], fmt=\"%d\")\n",
    "\n",
    "        f.write(\"\\n\")\n",
    "        f.close()\n"
   ]
  },
  {
   "cell_type": "code",
   "execution_count": 4,
   "metadata": {
    "collapsed": true
   },
   "outputs": [],
   "source": [
    "def generate_txt(image_path, save_folder):\n",
    "    if not os.path.exists(\"../data/prostate\"+save_folder):\n",
    "        os.mkdir(\"../data/prostate\"+save_folder)\n",
    "\n",
    "    # Generate Livertxt\n",
    "    if not os.path.exists(\"../data/prostate\"+save_folder+'ProstateBox'):\n",
    "        os.mkdir(\"../data/prostate\"+save_folder+'ProstateBox')\n",
    "    for i in range(50):\n",
    "        values = np.loadtxt('../data/prostate/myTrainingDataTxt/ProstatePixels/prostate_' + str(i) + '.txt', delimiter=' ', usecols=[0, 1, 2])\n",
    "        a = np.min(values, axis=0)\n",
    "        b = np.max(values, axis=0)\n",
    "        box = np.append(a,b, axis=0)\n",
    "        np.savetxt('../data/prostate/myTrainingDataTxt/ProstateBox/box_'+str(i)+'.txt', box,fmt='%d')"
   ]
  },
  {
   "cell_type": "code",
   "execution_count": 5,
   "metadata": {},
   "outputs": [
    {
     "name": "stdout",
     "output_type": "stream",
     "text": [
      "Proprecessing training data\n",
      "Saving image Case00.mhd\n",
      "Saving image Case01.mhd\n",
      "Saving image Case02.mhd\n",
      "Saving image Case03.mhd\n",
      "Saving image Case04.mhd\n",
      "Saving image Case05.mhd\n",
      "Saving image Case06.mhd\n",
      "Saving image Case07.mhd\n",
      "Saving image Case08.mhd\n",
      "Saving image Case09.mhd\n",
      "Saving image Case10.mhd\n",
      "Saving image Case11.mhd\n",
      "Saving image Case12.mhd\n",
      "Saving image Case13.mhd\n",
      "Saving image Case14.mhd\n",
      "Saving image Case15.mhd\n",
      "Saving image Case16.mhd\n",
      "Saving image Case17.mhd\n",
      "Saving image Case18.mhd\n",
      "Saving image Case19.mhd\n",
      "Saving image Case20.mhd\n",
      "Saving image Case21.mhd\n",
      "Saving image Case22.mhd\n",
      "Saving image Case23.mhd\n",
      "Saving image Case24.mhd\n",
      "Saving image Case25.mhd\n",
      "Saving image Case26.mhd\n",
      "Saving image Case27.mhd\n",
      "Saving image Case28.mhd\n",
      "Saving image Case29.mhd\n",
      "Saving image Case30.mhd\n",
      "Saving image Case31.mhd\n",
      "Saving image Case32.mhd\n",
      "Saving image Case33.mhd\n",
      "Saving image Case34.mhd\n",
      "Saving image Case35.mhd\n",
      "Saving image Case36.mhd\n",
      "Saving image Case37.mhd\n",
      "Saving image Case38.mhd\n",
      "Saving image Case39.mhd\n",
      "Saving image Case40.mhd\n",
      "Saving image Case41.mhd\n",
      "Saving image Case42.mhd\n",
      "Saving image Case43.mhd\n",
      "Saving image Case44.mhd\n",
      "Saving image Case45.mhd\n",
      "Saving image Case46.mhd\n",
      "Saving image Case47.mhd\n",
      "Saving image Case48.mhd\n",
      "Saving image Case49.mhd\n",
      "Proprecessing test data\n",
      "Saving image Case00.mhd\n",
      "Saving image Case01.mhd\n",
      "Saving image Case02.mhd\n",
      "Saving image Case03.mhd\n",
      "Saving image Case04.mhd\n",
      "Saving image Case05.mhd\n",
      "Saving image Case06.mhd\n",
      "Saving image Case07.mhd\n",
      "Saving image Case08.mhd\n",
      "Saving image Case09.mhd\n",
      "Saving image Case10.mhd\n",
      "Saving image Case11.mhd\n",
      "Saving image Case12.mhd\n",
      "Saving image Case13.mhd\n",
      "Saving image Case14.mhd\n",
      "Saving image Case15.mhd\n",
      "Saving image Case16.mhd\n",
      "Saving image Case17.mhd\n",
      "Saving image Case18.mhd\n",
      "Saving image Case19.mhd\n",
      "Saving image Case20.mhd\n",
      "Saving image Case21.mhd\n",
      "Saving image Case22.mhd\n",
      "Saving image Case23.mhd\n",
      "Saving image Case24.mhd\n",
      "Saving image Case25.mhd\n",
      "Saving image Case26.mhd\n",
      "Saving image Case27.mhd\n",
      "Saving image Case28.mhd\n",
      "Saving image Case29.mhd\n",
      "Generate prostate txt\n",
      "Generate prostate box \n",
      "Finish proprecessing\n"
     ]
    }
   ],
   "source": [
    "print(\"Proprecessing training data\")\n",
    "proprecessing(image_path='../data/prostate/TrainingData_Part1/', save_folder='/myTrainingData/',num=50)\n",
    "print(\"Proprecessing test data\")\n",
    "proprecessing(image_path='../data/prostate/TestData', save_folder='/myTestData/',num=30)\n",
    "print (\"Generate prostate txt\")\n",
    "generate_tumortxt(image_path='../data/prostate/TrainingData_Part1', save_folder='/myTrainingDataTxt/')\n",
    "print (\"Generate prostate box \")\n",
    "generate_txt(image_path='../data/prostate/TrainingData_Part1/', save_folder='/myTrainingDataTxt/')\n",
    "print('Finish proprecessing')"
   ]
  },
  {
   "cell_type": "code",
   "execution_count": null,
   "metadata": {
    "collapsed": true
   },
   "outputs": [],
   "source": []
  }
 ],
 "metadata": {
  "kernelspec": {
   "display_name": "Python [conda env:yinpengyu]",
   "language": "python",
   "name": "conda-env-yinpengyu-py"
  },
  "language_info": {
   "codemirror_mode": {
    "name": "ipython",
    "version": 3
   },
   "file_extension": ".py",
   "mimetype": "text/x-python",
   "name": "python",
   "nbconvert_exporter": "python",
   "pygments_lexer": "ipython3",
   "version": "3.6.8"
  }
 },
 "nbformat": 4,
 "nbformat_minor": 2
}
